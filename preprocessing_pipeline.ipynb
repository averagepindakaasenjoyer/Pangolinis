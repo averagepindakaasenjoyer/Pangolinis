{
 "cells": [
  {
   "cell_type": "code",
   "execution_count": 2,
   "id": "25d852a3",
   "metadata": {},
   "outputs": [],
   "source": [
    "from torchvision import transforms\n",
    "from torch.utils.data import Dataset\n",
    "from PIL import Image\n",
    "\n",
    "class InputImages(Dataset):\n",
    "    def __init__(self, dataframe, transform=None):\n",
    "        self.dataframe = dataframe      # A pandas DataFrame with image paths and labels\n",
    "        self.transform = transform      # Optional transformation pipeline\n",
    "\n",
    "    def __len__(self):\n",
    "        return len(self.dataframe)      # total number of samples\n",
    "\n",
    "    def __getitem__(self, idx):\n",
    "        row = self.dataframe.iloc[idx]  # Get row at index `idx`\n",
    "        image_path = row['frontview_funda_url_split']\n",
    "        image = Image.open(image_path).convert(\"RGB\")  # Open image and ensure it's RGB\n",
    "\n",
    "        if self.transform:\n",
    "            image = self.transform(image)  # Apply transformations (e.g., resize, ToTensor, normalize)\n",
    "\n",
    "        label = row['woningtype']          # Assumes a 'label' column with class info\n",
    "        return image, label\n",
    "\n",
    "\n",
    "# waardes hangen af van gebruikte model (CNN, ResNet)\n",
    "img_preprocess = transforms.Compose([\n",
    "    transforms.Resize((224, 224)),\n",
    "    transforms.ToTensor()              # hierna komt normalisatie, mean+std hangen van gebruikte model af (bijv: transforms.Normalize([0.5, 0.5, 0.5], [0.5,0.5,0.5])\n",
    "])"
   ]
  },
  {
   "cell_type": "code",
   "execution_count": 3,
   "id": "3ed560d1",
   "metadata": {},
   "outputs": [
    {
     "ename": "ModuleNotFoundError",
     "evalue": "No module named 'matplotlib'",
     "output_type": "error",
     "traceback": [
      "\u001b[31m---------------------------------------------------------------------------\u001b[39m",
      "\u001b[31mModuleNotFoundError\u001b[39m                       Traceback (most recent call last)",
      "\u001b[36mCell\u001b[39m\u001b[36m \u001b[39m\u001b[32mIn[3]\u001b[39m\u001b[32m, line 2\u001b[39m\n\u001b[32m      1\u001b[39m \u001b[38;5;66;03m# test code\u001b[39;00m\n\u001b[32m----> \u001b[39m\u001b[32m2\u001b[39m \u001b[38;5;28;01mimport\u001b[39;00m\u001b[38;5;250m \u001b[39m\u001b[34;01mmatplotlib\u001b[39;00m\u001b[34;01m.\u001b[39;00m\u001b[34;01mpyplot\u001b[39;00m\u001b[38;5;250m \u001b[39m\u001b[38;5;28;01mas\u001b[39;00m\u001b[38;5;250m \u001b[39m\u001b[34;01mplt\u001b[39;00m\n\u001b[32m      4\u001b[39m frontview_images = InputImages(df_sample_with_urls, img_preprocess)\n\u001b[32m      6\u001b[39m fig = plt.figure(figsize=(\u001b[32m12\u001b[39m, \u001b[32m4\u001b[39m))\n",
      "\u001b[31mModuleNotFoundError\u001b[39m: No module named 'matplotlib'"
     ]
    }
   ],
   "source": [
    "# test code\n",
    "import matplotlib.pyplot as plt\n",
    "\n",
    "frontview_images = InputImages(df_sample_with_urls, img_preprocess)\n",
    "\n",
    "fig = plt.figure(figsize=(12, 4))\n",
    "\n",
    "for i in range(4):\n",
    "    sample = frontview_images[i]\n",
    "    image_tensor, label = sample\n",
    "    image_np = image_tensor.numpy().transpose((1, 2, 0))\n",
    "\n",
    "\n",
    "    ax = plt.subplot(1, 4, i + 1)\n",
    "    plt.tight_layout()\n",
    "    ax.set_title('Sample #{}'.format(i))\n",
    "    ax.axis('off')\n",
    "\n",
    "    ax.imshow(image_np)\n",
    "\n",
    "plt.show()"
   ]
  },
  {
   "cell_type": "code",
   "execution_count": null,
   "id": "4d8b76a9",
   "metadata": {},
   "outputs": [],
   "source": [
    "# gebruik voor training en validatie\n",
    "\n",
    "train_dataset = InputImages(train_df, transform=transform)  # train_df veranderen naar hoe de echte train set heet\n",
    "val_dataset = InputImages(val_df, transform=transform)      # zeldfde geldt voor val_df\n",
    "\n",
    "train_loader = DataLoader(train_dataset, batch_size=32, shuffle=True)\n",
    "val_loader = DataLoader(val_dataset, batch_size=32, shuffle=False)"
   ]
  }
 ],
 "metadata": {
  "kernelspec": {
   "display_name": "venv311",
   "language": "python",
   "name": "python3"
  },
  "language_info": {
   "codemirror_mode": {
    "name": "ipython",
    "version": 3
   },
   "file_extension": ".py",
   "mimetype": "text/x-python",
   "name": "python",
   "nbconvert_exporter": "python",
   "pygments_lexer": "ipython3",
   "version": "3.11.0"
  }
 },
 "nbformat": 4,
 "nbformat_minor": 5
}
