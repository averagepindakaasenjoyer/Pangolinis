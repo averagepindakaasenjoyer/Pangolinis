{
 "cells": [
  {
   "cell_type": "code",
   "execution_count": 1,
   "id": "42f8e7d8",
   "metadata": {},
   "outputs": [
    {
     "name": "stdout",
     "output_type": "stream",
     "text": [
      "Index(['bag_nummeraanduidingid', 'source_data_result_id', 'special_house_type',\n",
      "       'woningtype', 'straatnaam', 'postcode', 'huisnr', 'huisnr_bag_letter',\n",
      "       'huisnr_bag_toevoeging', 'plaatsnaam', 'opp_pand', 'oppervlakte',\n",
      "       'build_year', 'build_type', 'is_monument', 'is_protected',\n",
      "       'source_data_timestamp', 'geometry', 'random_rank', 'bag_id',\n",
      "       'num_funda_images', 'frontview_exists', 'frontview_funda_url',\n",
      "       'frontview_google_url', 'frontview_funda_in_business_url'],\n",
      "      dtype='object')\n"
     ]
    }
   ],
   "source": [
    "import pandas as pd\n",
    "import pyarrow\n",
    "from dotenv import load_dotenv\n",
    "import os\n",
    "\n",
    "load_dotenv()\n",
    "\n",
    "file_path = os.getenv('FILE_PATH')\n",
    "\n",
    "filenames = [\n",
    "    'bag_ids_no_funda',\n",
    "    'random_online_sample',\n",
    "    'special_house_types_class_sample',\n",
    "    'detailed_woning_type_sample',\n",
    "    'not_online_listings', # Download from slack\n",
    "]\n",
    "\n",
    "df = pd.read_csv(file_path + \"bag_image_summary.csv\")\n",
    "df_sample = pd.read_parquet(file_path + \"detailed_woning_type_sample.parquet\")\n",
    "df = pd.read_csv(file_path + \"bag_image_summary.csv\", dtype=\"string\")\n",
    "df_joined = pd.merge(df_sample, df, how=\"left\", right_on=\"bag_id\", left_on=\"bag_nummeraanduidingid\")\n",
    "df_sample_with_urls = df_joined[df_joined[\"frontview_exists\"].notna()]\n",
    "\n",
    "print(df_sample_with_urls.columns)"
   ]
  },
  {
   "cell_type": "code",
   "execution_count": null,
   "id": "7d3b9892",
   "metadata": {},
   "outputs": [],
   "source": [
    "import seaborn as sns\n",
    "import matplotlib.pyplot as plt\n",
    "\n",
    "# Numeric interpretation: count unique values and their frequencies\n",
    "special_house_type_counts = df_sample_with_urls['special_house_type'].value_counts(dropna=False)\n",
    "woningtype_counts = df_sample_with_urls['woningtype'].value_counts(dropna=False)\n",
    "build_type_counts = df_sample_with_urls['build_type'].value_counts(dropna=False)"
   ]
  },
  {
   "cell_type": "code",
   "execution_count": null,
   "id": "8649b63b",
   "metadata": {},
   "outputs": [],
   "source": [
    "print(\"Special House Type Counts:\\n\", special_house_type_counts)"
   ]
  },
  {
   "cell_type": "code",
   "execution_count": null,
   "id": "a82121c7",
   "metadata": {},
   "outputs": [],
   "source": [
    "print(\"Woningtype Counts:\\n\", woningtype_counts)"
   ]
  },
  {
   "cell_type": "code",
   "execution_count": null,
   "id": "f3a69f9c",
   "metadata": {},
   "outputs": [],
   "source": [
    "print(\"Build Type Counts:\\n\", build_type_counts)"
   ]
  },
  {
   "cell_type": "code",
   "execution_count": null,
   "id": "57b30617",
   "metadata": {},
   "outputs": [],
   "source": [
    "# Bar chart for special_house_type\n",
    "plt.figure(figsize=(10, 6))\n",
    "sns.barplot(\n",
    "    y=special_house_type_counts.index[:15],  # show top 15 for readability\n",
    "    x=special_house_type_counts.values[:15],\n",
    ")\n",
    "plt.title(\"Top 15 Special House Types\")\n",
    "plt.xlabel(\"Count\")\n",
    "plt.ylabel(\"Special House Type\")\n",
    "plt.tight_layout()\n",
    "plt.show()\n",
    "\n",
    "# Bar chart for woningtype\n",
    "plt.figure(figsize=(10, 6))\n",
    "sns.barplot(\n",
    "    y=woningtype_counts.index,\n",
    "    x=woningtype_counts.values,\n",
    ")\n",
    "plt.title(\"Woningtype Counts\")\n",
    "plt.xlabel(\"Count\")\n",
    "plt.ylabel(\"Woningtype\")\n",
    "plt.tight_layout()\n",
    "plt.show()\n",
    "\n",
    "# Bar chart for build_type\n",
    "plt.figure(figsize=(10, 6))\n",
    "sns.barplot(\n",
    "    y=build_type_counts.index,\n",
    "    x=build_type_counts.values,\n",
    ")\n",
    "plt.title(\"Build Type Counts\")\n",
    "plt.xlabel(\"Count\")\n",
    "plt.ylabel(\"Build Type\")\n",
    "plt.tight_layout()\n",
    "plt.show()"
   ]
  },
  {
   "cell_type": "code",
   "execution_count": null,
   "id": "e0daf6e3",
   "metadata": {},
   "outputs": [],
   "source": [
    "build_woning_counts = df_sample_with_urls.groupby(['build_type', 'woningtype']).size().unstack(fill_value=0)\n",
    "woning_build_counts = df_sample_with_urls.groupby(['woningtype', 'build_type']).size().unstack(fill_value=0)\n",
    "\n",
    "# Plot stacked bar chart\n",
    "build_woning_counts.plot(kind='bar', stacked=True, figsize=(12, 7))\n",
    "plt.title(\"Woningtype Counts by Build Type\")\n",
    "plt.xlabel(\"Build Type\")\n",
    "plt.ylabel(\"Count\")\n",
    "plt.legend(title=\"Woningtype\", bbox_to_anchor=(1.05, 1), loc='upper left')\n",
    "plt.tight_layout()\n",
    "plt.show()\n",
    "\n",
    "# Plot stacked bar chart (woningtype as index)\n",
    "woning_build_counts.plot(kind='bar', stacked=True, figsize=(12, 7))\n",
    "plt.title(\"Build Type Counts by Woningtype\")\n",
    "plt.xlabel(\"Woningtype\")\n",
    "plt.ylabel(\"Count\")\n",
    "plt.legend(title=\"Build Type\", bbox_to_anchor=(1.05, 1), loc='upper left')\n",
    "plt.tight_layout()\n",
    "plt.show()"
   ]
  },
  {
   "cell_type": "code",
   "execution_count": null,
   "id": "8475994a",
   "metadata": {},
   "outputs": [],
   "source": [
    "# Numeric representation\n",
    "print(\"build_type subdivided into woningtype (build_type x woningtype):\\n\", build_woning_counts)"
   ]
  },
  {
   "cell_type": "code",
   "execution_count": null,
   "id": "6d890195",
   "metadata": {},
   "outputs": [],
   "source": [
    "print(\"woningtype subdivided into buildtype (woningtype x build_type):\\n\", woning_build_counts)"
   ]
  }
 ],
 "metadata": {
  "kernelspec": {
   "display_name": "venv",
   "language": "python",
   "name": "python3"
  },
  "language_info": {
   "codemirror_mode": {
    "name": "ipython",
    "version": 3
   },
   "file_extension": ".py",
   "mimetype": "text/x-python",
   "name": "python",
   "nbconvert_exporter": "python",
   "pygments_lexer": "ipython3",
   "version": "3.12.7"
  }
 },
 "nbformat": 4,
 "nbformat_minor": 5
}
