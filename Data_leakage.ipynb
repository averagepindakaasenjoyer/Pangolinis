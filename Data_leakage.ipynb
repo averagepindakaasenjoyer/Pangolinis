{
 "cells": [
  {
   "cell_type": "code",
   "execution_count": 1,
   "metadata": {},
   "outputs": [
    {
     "name": "stdout",
     "output_type": "stream",
     "text": [
      "Index(['bag_nummeraanduidingid', 'source_data_result_id', 'special_house_type',\n",
      "       'woningtype', 'straatnaam', 'postcode', 'huisnr', 'huisnr_bag_letter',\n",
      "       'huisnr_bag_toevoeging', 'plaatsnaam', 'opp_pand', 'oppervlakte',\n",
      "       'build_year', 'build_type', 'is_monument', 'is_protected',\n",
      "       'source_data_timestamp', 'geometry', 'random_rank', 'bag_id',\n",
      "       'num_funda_images', 'frontview_exists', 'frontview_funda_url',\n",
      "       'frontview_google_url', 'frontview_funda_in_business_url'],\n",
      "      dtype='object')\n"
     ]
    }
   ],
   "source": [
    "# split data into test, validaton and split\n",
    "from sklearn.model_selection import train_test_split\n",
    "\n",
    "df = #de dataset die gesplit wordt\n",
    "\n",
    "train_df, temp_df = train_test_split(df, test_size=0.4, random_state=42)\n",
    "val_df, test_df = train_test_split(temp_df, test_size=0.5, random_state=42)\n",
    "\n",
    "#optioneel als je er een csv file van wil maar je hebt in principe ny al gwn train_df, val_df en test_df\n",
    "\n",
    "# train_df.to_csv(\"train.csv\", index=False)\n",
    "# val_df.to_csv(\"val.csv\", index=False)\n",
    "# test_df.to_csv(\"test.csv\", index=False)\n"
   ]
  },
  {
   "cell_type": "code",
   "execution_count": null,
   "metadata": {},
   "outputs": [],
   "source": [
    " "
   ]
  }
 ],
 "metadata": {
  "kernelspec": {
   "display_name": "Python 3",
   "language": "python",
   "name": "python3"
  },
  "language_info": {
   "codemirror_mode": {
    "name": "ipython",
    "version": 3
   },
   "file_extension": ".py",
   "mimetype": "text/x-python",
   "name": "python",
   "nbconvert_exporter": "python",
   "pygments_lexer": "ipython3",
   "version": "3.10.12"
  }
 },
 "nbformat": 4,
 "nbformat_minor": 2
}
