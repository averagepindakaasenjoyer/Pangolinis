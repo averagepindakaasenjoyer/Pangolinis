{
 "cells": [
  {
   "cell_type": "code",
   "execution_count": 1,
   "metadata": {},
   "outputs": [
    {
     "ename": "NameError",
     "evalue": "name 'train_df' is not defined",
     "output_type": "error",
     "traceback": [
      "\u001b[0;31m---------------------------------------------------------------------------\u001b[0m",
      "\u001b[0;31mNameError\u001b[0m                                 Traceback (most recent call last)",
      "Cell \u001b[0;32mIn[1], line 6\u001b[0m\n\u001b[1;32m      1\u001b[0m \u001b[38;5;66;03m#classical naive bayas probability model for baseline\u001b[39;00m\n\u001b[1;32m      3\u001b[0m \u001b[38;5;28;01mfrom\u001b[39;00m \u001b[38;5;21;01msklearn\u001b[39;00m\u001b[38;5;21;01m.\u001b[39;00m\u001b[38;5;21;01mnaive_bayes\u001b[39;00m \u001b[38;5;28;01mimport\u001b[39;00m GaussianNB, CategoricalNB\n\u001b[0;32m----> 6\u001b[0m X_train \u001b[38;5;241m=\u001b[39m \u001b[43mtrain_df\u001b[49m\u001b[38;5;241m.\u001b[39mdrop(columns\u001b[38;5;241m=\u001b[39m[\u001b[38;5;124m\"\u001b[39m\u001b[38;5;124mwoningtype\u001b[39m\u001b[38;5;124m\"\u001b[39m])\n\u001b[1;32m      7\u001b[0m y_train \u001b[38;5;241m=\u001b[39m train_df[\u001b[38;5;124m\"\u001b[39m\u001b[38;5;124mwoningtype\u001b[39m\u001b[38;5;124m\"\u001b[39m]\n\u001b[1;32m      9\u001b[0m X_val \u001b[38;5;241m=\u001b[39m val_df\u001b[38;5;241m.\u001b[39mdrop(columns\u001b[38;5;241m=\u001b[39m[\u001b[38;5;124m\"\u001b[39m\u001b[38;5;124mwoningtype\u001b[39m\u001b[38;5;124m\"\u001b[39m])\n",
      "\u001b[0;31mNameError\u001b[0m: name 'train_df' is not defined"
     ]
    }
   ],
   "source": [
    "#classical naive bayas probability model for baseline\n",
    "\n",
    "from sklearn.naive_bayes import GaussianNB, CategoricalNB\n",
    "\n",
    "\n",
    "X_train = train_df.drop(columns=[\"woningtype\"])\n",
    "y_train = train_df[\"woningtype\"]\n",
    "\n",
    "X_val = val_df.drop(columns=[\"woningtype\"])\n",
    "y_val = val_df[\"woningtype\"]\n",
    "\n",
    "X_test = test_df.drop(columns=[\"woningtype\"])\n",
    "y_test = test_df[\"woningtype\"]\n",
    "\n",
    "#wow heel moeilijk model hoor HAHA\n",
    "#guassian NB ipv categorical omdat onze data niet alleen categorical is (WOW)\n",
    "model = GaussianNB()\n",
    "model.fit(X_train, y_train)"
   ]
  },
  {
   "cell_type": "code",
   "execution_count": null,
   "metadata": {},
   "outputs": [],
   "source": [
    "#discriminitive classical model (probabky xgboost or random forest)\n",
    "#random forest is denk beter als deze modellen alleen als baseline worden gebruikt\n",
    "#xg is meer accurate tho\n",
    "#heb de categorical features niet geencode want dacht dat koen dat al gedaan had? anders ga ik er nog achteraan\n",
    "\n",
    "from sklearn.ensemble import RandomForestClassifier\n",
    "import xgboost as xgb\n",
    "from catboost import CatBoostClassifier\n",
    "\n",
    "X_train = train_df.drop(columns=[\"woningtype\"])\n",
    "y_train = train_df[\"woningtype\"]\n",
    "\n",
    "X_val = val_df.drop(columns=[\"woningtype\"])\n",
    "y_val = val_df[\"woningtype\"]\n",
    "\n",
    "X_test = test_df.drop(columns=[\"woningtype\"])\n",
    "y_test = test_df[\"woningtype\"]\n",
    "\n",
    "#random forest is minder accuraat maar meer interpeteerbaar en minder complex\n",
    "rf = RandomForestClassifier(n_estimators=100, random_state=42)\n",
    "rf.fit(X_train, y_train)\n",
    "\n",
    "#accurater maar moet ff meer hyperparamter tuningg doen\n",
    "xgb_clf = xgb.XGBClassifier(\n",
    "    n_estimators=100,\n",
    "    learning_rate=0.1,\n",
    "    max_depth=6,\n",
    "    use_label_encoder=False,\n",
    "    eval_metric='mlogloss',\n",
    "    random_state=42\n",
    ")\n",
    "xgb_clf.fit(X_train, y_train)\n",
    "\n",
    "#Ik heb nog even niets aangeraakt voor het valideren want weet nog niet welke metric we gebruiken\n",
    "#wil ook niet onze test zet verneuken en leake ofzo\n",
    "#moet nog parameters tunen maar wilde de pipeline hiervoor gebruiken denk ik?\n",
    "\n"
   ]
  }
 ],
 "metadata": {
  "kernelspec": {
   "display_name": "Python 3",
   "language": "python",
   "name": "python3"
  },
  "language_info": {
   "codemirror_mode": {
    "name": "ipython",
    "version": 3
   },
   "file_extension": ".py",
   "mimetype": "text/x-python",
   "name": "python",
   "nbconvert_exporter": "python",
   "pygments_lexer": "ipython3",
   "version": "3.10.12"
  }
 },
 "nbformat": 4,
 "nbformat_minor": 2
}
