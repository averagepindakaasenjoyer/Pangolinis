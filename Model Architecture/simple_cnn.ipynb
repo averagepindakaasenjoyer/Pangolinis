{
 "cells": [
  {
   "cell_type": "code",
   "execution_count": 2,
   "id": "a4acb422",
   "metadata": {},
   "outputs": [],
   "source": [
    "# custom class om DataLoader te kunnen gebruiken\n",
    "\n",
    "from torchvision import transforms\n",
    "from torch.utils.data import Dataset, DataLoader\n",
    "from PIL import Image\n",
    "\n",
    "import torch\n",
    "import torch.nn as nn\n",
    "import torch.nn.functional as F\n",
    "import torch.optim as optim\n",
    "\n",
    "import matplotlib.pyplot as plt\n",
    "import pandas as pd\n",
    "from sklearn.model_selection import train_test_split\n",
    "\n",
    "import os\n",
    "from dotenv import load_dotenv\n",
    "\n",
    "# load_dotenv()\n",
    "# load_dotenv(dotenv_path=\"C:/Users/peta GamePC/Documents/UvA KI/matrixian/Pangolinis/.env\")\n",
    "load_dotenv(dotenv_path=\"/Users/iremafacan/matrixian/data/\")\n",
    "file_path = os.getenv('FILE_PATH')\n",
    "\n",
    "# Load and filter CSV\n",
    "df = pd.read_csv(file_path + \"Full_preprocessed_detailed_house.csv\", dtype=\"string\")\n",
    "\n",
    "# Class mapping\n",
    "label_to_int = {label: idx for idx, label in enumerate(df['woningtype'].unique())}    \n",
    "\n",
    "class InputImages(Dataset):\n",
    "    def __init__(self, dataframe, transform=None, label_to_int=label_to_int):\n",
    "        self.dataframe = dataframe\n",
    "        self.transform = transform\n",
    "        self.label_to_int = label_to_int\n",
    "\n",
    "    def __len__(self):\n",
    "        return len(self.dataframe)\n",
    "\n",
    "    def __getitem__(self, idx):\n",
    "        row = self.dataframe.iloc[idx]\n",
    "        image_path = row['full_image_path']\n",
    "        image = Image.open(image_path).convert(\"RGB\")\n",
    "\n",
    "        if self.transform:\n",
    "            image = self.transform(image)\n",
    "\n",
    "        # label str --> int voor cross entropy loss\n",
    "        label = int(self.label_to_int[row['woningtype']])\n",
    "        return image, label\n"
   ]
  },
  {
   "cell_type": "code",
   "execution_count": 3,
   "id": "e750a0f8",
   "metadata": {},
   "outputs": [],
   "source": [
    "# preprocess pipeline\n",
    "\n",
    "img_preprocess = transforms.Compose([\n",
    "    transforms.Resize((224, 224)),\n",
    "    transforms.ToTensor(),              # hierna komt normalisatie, mean+std hangen van gebruikte model af (bijv: transforms.Normalize([0.5, 0.5, 0.5], [0.5,0.5,0.5])\n",
    "    transforms.Normalize((0.5, 0.5, 0.5), (0.5,0.5,0.5))\n",
    "])\n"
   ]
  },
  {
   "cell_type": "code",
   "execution_count": 4,
   "id": "9c3fa7d8",
   "metadata": {},
   "outputs": [],
   "source": [
    "import pandas as pd\n",
    "import pyarrow\n",
    "from dotenv import load_dotenv\n",
    "import os\n",
    "import re\n",
    "from sklearn.preprocessing import StandardScaler\n",
    "from sklearn.model_selection import train_test_split\n",
    "from sklearn.utils import resample\n",
    "from sklearn.preprocessing import OneHotEncoder\n",
    "\n",
    "load_dotenv()\n",
    "\n",
    "file_path = os.getenv('FILE_PATH')\n",
    "\n",
    "df_sample = pd.read_parquet(file_path + \"detailed_woning_type_sample.parquet\")\n",
    "df = pd.read_csv(file_path + \"bag_image_summary.csv\", dtype=\"string\")\n",
    "df_joined = pd.merge(df_sample, df, how=\"left\", right_on=\"bag_id\", left_on=\"bag_nummeraanduidingid\")\n",
    "df_sample_with_urls = df_joined[df_joined[\"frontview_exists\"].notna()]\n",
    "\n",
    "# If you want to add the file path to the URLs, set this to True\n",
    "add_file_path_to_urls = False\n",
    "\n",
    "# Currently a funda sourced Url goes from: \n",
    "# frontview/0797/2000/0002/3888/0797200000023888.jpg\n",
    "# to: img_dataset/07/079720000002-funda.jpg\n",
    "def extract_path(url, source):\n",
    "    if pd.isna(url) or url == '' or url is None:\n",
    "        return ''\n",
    "    id = url.rstrip('/').split('/')[-1]\n",
    "    id, *_ = id.split('.')\n",
    "    m = re.match(r'(\\d{2})', id)\n",
    "    first_two_digits = m.group(1) if m else ''\n",
    "    return f\"img_dataset/{first_two_digits}/{id}-{source}.jpg\"\n",
    "\n",
    "link_cols = ['frontview_funda_url', 'frontview_google_url', 'frontview_funda_in_business_url']\n",
    "link_sources = ['funda', 'google', 'funda-in-business'] # Sources are in file name, so need to be added to filename for correct name\n",
    "\n",
    "for col, source in zip(link_cols, link_sources):\n",
    "    df_sample_with_urls[f'{col}_split'] = df_sample_with_urls[col].map(lambda url: extract_path(url, source))\n",
    "\n",
    "# If you want to add the file path to the URLs, set add_file_path_to_urls to True\n",
    "if add_file_path_to_urls:\n",
    "    df_sample_with_urls[[f'{col}_split' for col in link_cols]] = df_sample_with_urls[[f'{col}_split' for col in link_cols]].map(lambda x: file_path + x if x else '')\n",
    "    add_file_path_to_urls = False\n",
    "\n",
    "df_sample_with_urls.to_csv(\n",
    "    file_path + \"Full_preprocessed_detailed_house.csv\",\n",
    "    index=False,\n",
    "    encoding='utf-8',\n",
    ")\n",
    "\n",
    "df = pd.read_csv(file_path + \"Full_preprocessed_detailed_house.csv\", dtype=\"string\")\n",
    "\n",
    "# Verschillend is a special case, so we remove it from the dataset\n",
    "df = df[df['build_type'] != 'Verschillend']\n",
    "\n",
    "def pick_first_url(row):\n",
    "    for col in [f\"{c}_split\" for c in link_cols]:\n",
    "        val = row[col]\n",
    "        if pd.notna(val) and val != '':\n",
    "            return val\n",
    "    return ''\n",
    "\n",
    "df['frontview_url'] = df.apply(pick_first_url, axis=1)\n",
    "df = df[df['frontview_url'] != '']\n",
    "\n",
    "# Ensure 'opp_pand' and 'oppervlakte' are numeric before division\n",
    "df['procent_ingenomen'] = pd.to_numeric(df['opp_pand'], errors='coerce') / pd.to_numeric(df['oppervlakte'], errors='coerce')\n",
    "\n",
    "df['huisnr_bag_letter'] = df['huisnr_bag_letter'].notna().astype(int)\n",
    "df['huisnr_bag_toevoeging'] = df['huisnr_bag_toevoeging'].notna().astype(int)\n",
    "\n",
    "df['is_monument'] = df['is_monument'].fillna(0).astype(int)\n",
    "df['is_protected'] = df['is_protected'].fillna(0).astype(int)\n",
    "\n",
    "df = df.drop(columns=['bag_nummeraanduidingid', 'frontview_exists', 'random_rank', 'num_funda_images',\n",
    "                      'frontview_funda_url', 'frontview_google_url', 'frontview_funda_in_business_url', \n",
    "                      'frontview_funda_url_split', 'frontview_google_url_split', 'frontview_funda_in_business_url_split',\n",
    "                      'special_house_type', 'source_data_result_id',\n",
    "                      'straatnaam', 'postcode', 'plaatsnaam',\n",
    "                      ])\n",
    "\n",
    "# CURRENTLY DELETING GEOMETRY COLUMN, CHANGE IF NEEDED\n",
    "df = df.drop(columns=['geometry'])\n",
    "\n",
    "# Oversample corriderflat door random te dupliceren\n",
    "df_majority = df[df['woningtype'] != 'Corridorflat']  \n",
    "df_minority = df[df['woningtype'] == 'Corridorflat'] \n",
    "\n",
    "df_minority_oversampled = resample(\n",
    "    df_minority,\n",
    "    replace=True,                \n",
    "    n_samples=500,               \n",
    "    random_state=42            \n",
    ")\n",
    "\n",
    "# Voeg ze weer samen en shuffle, change random state for different shuffle\n",
    "df_balanced = pd.concat([df_majority, df_minority_oversampled])\n",
    "df = df_balanced.sample(frac=1, random_state=42).reset_index(drop=True)\n",
    "\n",
    "# Add full path to image column\n",
    "df['full_image_path'] = file_path + df['frontview_url']\n",
    "\n",
    "# Filter out rows where image file doesn't exist\n",
    "df = df[df['full_image_path'].apply(os.path.exists)]\n",
    "\n",
    "# Optional: reset index after filtering\n",
    "df = df.reset_index(drop=True)\n",
    "\n",
    "# Full preprocessed dataset with URLS, can be loaded into pipeline.\n",
    "df.to_csv(\n",
    "    file_path + \"Full_preprocessed_detailed_house.csv\",\n",
    "    index=False,\n",
    "    encoding='utf-8',\n",
    ")\n"
   ]
  },
  {
   "cell_type": "code",
   "execution_count": 5,
   "id": "4880b047",
   "metadata": {},
   "outputs": [],
   "source": [
    "# dataloader; define train + val set\n",
    "\n",
    "# adjust random_state for reproducibility\n",
    "train_df, temp_df = train_test_split(df, test_size=0.4, random_state=42)\n",
    "val_df, test_df = train_test_split(temp_df, test_size=0.5, random_state=42)\n",
    "\n",
    "train_dataset = InputImages(train_df, transform=img_preprocess)  # train_df veranderen naar hoe de echte train set heet\n",
    "val_dataset = InputImages(val_df, transform=img_preprocess)      # zeldfde geldt voor val_df\n",
    "\n",
    "train_loader = DataLoader(train_dataset, batch_size=32, shuffle=True)\n",
    "val_loader = DataLoader(val_dataset, batch_size=32, shuffle=False)"
   ]
  },
  {
   "cell_type": "code",
   "execution_count": 6,
   "id": "12cdc126",
   "metadata": {},
   "outputs": [],
   "source": [
    "# simple CNN \n",
    "\n",
    "class SimpleCNN(nn.Module):\n",
    "    def __init__(self):\n",
    "        super().__init__()\n",
    "        self.conv1 = nn.Conv2d(3, 16, 3, padding=1) #in_channel=3 (RGB), out_channel, kernel_size\n",
    "        self.pool = nn.MaxPool2d(2, 2)\n",
    "        self.conv2 = nn.Conv2d(16, 32, 3)\n",
    "        self.fc1 = nn.Linear(32 * 55 * 55, 120) # dit moet wellicht 32*55*55 zijn\n",
    "        self.fc2 = nn.Linear(120, 84)\n",
    "        self.fc3 = nn.Linear(84, 15)\n",
    "\n",
    "    def forward(self, x):\n",
    "        x = self.pool(F.relu(self.conv1(x)))\n",
    "        x = self.pool(F.relu(self.conv2(x)))\n",
    "        x = torch.flatten(x, 1) # flatten all dimensions except batch\n",
    "        x = F.relu(self.fc1(x))\n",
    "        x = F.relu(self.fc2(x))\n",
    "        x = self.fc3(x)\n",
    "        return x\n",
    "\n",
    "\n",
    "net = SimpleCNN()"
   ]
  },
  {
   "cell_type": "code",
   "execution_count": 7,
   "id": "5041a707",
   "metadata": {},
   "outputs": [],
   "source": [
    "# loss function, optimizer\n",
    "\n",
    "criterion = nn.CrossEntropyLoss()\n",
    "optimizer = optim.SGD(net.parameters(), lr=0.001, momentum=0.9) #momentum kan getweaked worden"
   ]
  },
  {
   "cell_type": "code",
   "execution_count": 40,
   "id": "9d1a71b5",
   "metadata": {},
   "outputs": [
    {
     "name": "stdout",
     "output_type": "stream",
     "text": [
      "Finished Training\n"
     ]
    }
   ],
   "source": [
    "# training loop\n",
    "\n",
    "for epoch in range(10):  # voor 7k rijen. 10-20 epochs\n",
    "\n",
    "    running_loss = 0.0\n",
    "    for i, data in enumerate(train_loader, 0):\n",
    "        # get the inputs; data is a list of [inputs, labels]\n",
    "        inputs, labels = data\n",
    "\n",
    "        # zero the parameter gradients\n",
    "        optimizer.zero_grad()\n",
    "\n",
    "        # forward + backward + optimize\n",
    "        outputs = net(inputs)\n",
    "        loss = criterion(outputs, labels)\n",
    "        loss.backward()\n",
    "        optimizer.step()\n",
    "\n",
    "        # print statistics\n",
    "        running_loss += loss.item()\n",
    "        if i % 2000 == 1999:    # print every 2000 mini-batches\n",
    "            print(f'[{epoch + 1}, {i + 1:5d}] loss: {running_loss / 2000:.3f}')\n",
    "            running_loss = 0.0\n",
    "\n",
    "print('Finished Training')"
   ]
  },
  {
   "cell_type": "code",
   "execution_count": null,
   "id": "3ee8aa15",
   "metadata": {},
   "outputs": [],
   "source": [
    "# save trained model (only learned weights - not entire model)\n",
    "\n",
    "PATH = './simple_cnn.pth' # dit moet wrs veranderd worden\n",
    "torch.save(net.state_dict(), PATH)\n",
    "\n",
    "# opniew laden kan zo:\n",
    "# model = SimpleCNN()  \n",
    "# model.load_state_dict(torch.load('simple_cnn.pth'))\n",
    "# print(model)"
   ]
  },
  {
   "cell_type": "code",
   "execution_count": 42,
   "id": "caad9e56",
   "metadata": {},
   "outputs": [
    {
     "data": {
      "text/plain": [
       "<sklearn.metrics._plot.confusion_matrix.ConfusionMatrixDisplay at 0x294348e30>"
      ]
     },
     "execution_count": 42,
     "metadata": {},
     "output_type": "execute_result"
    },
    {
     "data": {
      "image/png": "[encoded data removed]",
      "text/plain": [
       "<Figure size 640x480 with 2 Axes>"
      ]
     },
     "metadata": {},
     "output_type": "display_data"
    }
   ],
   "source": [
    "# confusion matrix\n",
    "\n",
    "from sklearn.metrics import confusion_matrix, ConfusionMatrixDisplay\n",
    "\n",
    "all_preds = []\n",
    "all_labels = []\n",
    "\n",
    "with torch.no_grad():\n",
    "    for inputs, labels in val_loader:\n",
    "        outputs = net(inputs)\n",
    "        _, preds = torch.max(outputs, 1)\n",
    "        all_preds.extend(preds.cpu().numpy())\n",
    "        all_labels.extend(labels.cpu().numpy())\n",
    "\n",
    "cm = confusion_matrix(all_labels, all_preds)\n",
    "disp = ConfusionMatrixDisplay(confusion_matrix=cm)\n",
    "disp.plot()\n"
   ]
  },
  {
   "cell_type": "code",
   "execution_count": 43,
   "id": "a7df3a3c",
   "metadata": {},
   "outputs": [
    {
     "name": "stdout",
     "output_type": "stream",
     "text": [
      "                                 precision    recall  f1-score   support\n",
      "\n",
      "            2-onder-1-kapwoning       0.00      0.00      0.00       102\n",
      "                  Benedenwoning       0.13      0.35      0.19       104\n",
      "                    Bovenwoning       0.06      0.01      0.02       100\n",
      "                   Corridorflat       0.00      0.00      0.00        41\n",
      "                     Eindwoning       0.15      0.20      0.17        92\n",
      "                    Galerijflat       0.22      0.35      0.27        99\n",
      "Geschakelde 2-onder-1-kapwoning       0.17      0.02      0.03       110\n",
      "             Geschakelde woning       0.11      0.20      0.14        88\n",
      "         Halfvrijstaande woning       0.00      0.00      0.00        91\n",
      "                     Hoekwoning       0.04      0.01      0.02        86\n",
      "                    Maisonnette       0.13      0.02      0.04        94\n",
      "                    Portiekflat       0.14      0.08      0.10        88\n",
      "                  Portiekwoning       0.16      0.17      0.16       102\n",
      "                   Tussenwoning       0.24      0.27      0.25        90\n",
      "             Vrijstaande woning       0.18      0.55      0.27       110\n",
      "\n",
      "                       accuracy                           0.16      1397\n",
      "                      macro avg       0.12      0.15      0.11      1397\n",
      "                   weighted avg       0.12      0.16      0.12      1397\n",
      "\n"
     ]
    },
    {
     "name": "stderr",
     "output_type": "stream",
     "text": [
      "/Library/Frameworks/Python.framework/Versions/3.12/lib/python3.12/site-packages/sklearn/metrics/_classification.py:1565: UndefinedMetricWarning: Precision is ill-defined and being set to 0.0 in labels with no predicted samples. Use `zero_division` parameter to control this behavior.\n",
      "  _warn_prf(average, modifier, f\"{metric.capitalize()} is\", len(result))\n",
      "/Library/Frameworks/Python.framework/Versions/3.12/lib/python3.12/site-packages/sklearn/metrics/_classification.py:1565: UndefinedMetricWarning: Precision is ill-defined and being set to 0.0 in labels with no predicted samples. Use `zero_division` parameter to control this behavior.\n",
      "  _warn_prf(average, modifier, f\"{metric.capitalize()} is\", len(result))\n",
      "/Library/Frameworks/Python.framework/Versions/3.12/lib/python3.12/site-packages/sklearn/metrics/_classification.py:1565: UndefinedMetricWarning: Precision is ill-defined and being set to 0.0 in labels with no predicted samples. Use `zero_division` parameter to control this behavior.\n",
      "  _warn_prf(average, modifier, f\"{metric.capitalize()} is\", len(result))\n"
     ]
    }
   ],
   "source": [
    "# precision, recall, f1-score\n",
    "\n",
    "from sklearn.metrics import classification_report\n",
    "\n",
    "print(classification_report(all_labels, all_preds, target_names=label_to_int.keys()))\n"
   ]
  },
  {
   "cell_type": "code",
   "execution_count": 8,
   "id": "aad4f20a",
   "metadata": {},
   "outputs": [
    {
     "name": "stdout",
     "output_type": "stream",
     "text": [
      "woningtype\n",
      "Corridorflat                       500\n",
      "Eindwoning                         493\n",
      "Hoekwoning                         493\n",
      "Geschakelde 2-onder-1-kapwoning    492\n",
      "Portiekflat                        491\n",
      "Maisonnette                        490\n",
      "Tussenwoning                       489\n",
      "Galerijflat                        489\n",
      "Benedenwoning                      488\n",
      "Geschakelde woning                 487\n",
      "2-onder-1-kapwoning                485\n",
      "Vrijstaande woning                 483\n",
      "Halfvrijstaande woning             479\n",
      "Bovenwoning                        473\n",
      "Portiekwoning                      469\n",
      "Name: count, dtype: Int64\n"
     ]
    }
   ],
   "source": [
    "print(df['woningtype'].value_counts())\n"
   ]
  },
  {
   "cell_type": "code",
   "execution_count": 46,
   "id": "6aa5f2c0",
   "metadata": {},
   "outputs": [
    {
     "name": "stdout",
     "output_type": "stream",
     "text": [
      "Top-3 Accuracy: 37.08%\n"
     ]
    }
   ],
   "source": [
    "def top_k_accuracy(output, target, k=3):\n",
    "    with torch.no_grad():\n",
    "        _, pred = output.topk(k, 1, True, True)\n",
    "        correct = pred.eq(target.view(-1, 1).expand_as(pred))\n",
    "        return correct.sum().item() / target.size(0)\n",
    "\n",
    "# Example in evaluation loop\n",
    "total_top3 = 0\n",
    "total = 0\n",
    "with torch.no_grad():\n",
    "    for inputs, labels in val_loader:\n",
    "        outputs = net(inputs)\n",
    "        total_top3 += top_k_accuracy(outputs, labels, k=3) * labels.size(0)\n",
    "        total += labels.size(0)\n",
    "\n",
    "print(f'Top-3 Accuracy: {100 * total_top3 / total:.2f}%')\n"
   ]
  },
  {
   "cell_type": "code",
   "execution_count": null,
   "id": "a90b6197",
   "metadata": {},
   "outputs": [],
   "source": []
  }
 ],
 "metadata": {
  "kernelspec": {
   "display_name": "Python 3",
   "language": "python",
   "name": "python3"
  },
  "language_info": {
   "codemirror_mode": {
    "name": "ipython",
    "version": 3
   },
   "file_extension": ".py",
   "mimetype": "text/x-python",
   "name": "python",
   "nbconvert_exporter": "python",
   "pygments_lexer": "ipython3",
   "version": "3.12.7"
  }
 },
 "nbformat": 4,
 "nbformat_minor": 5
}
