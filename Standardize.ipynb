{
 "cells": [
  {
   "cell_type": "code",
   "execution_count": 1,
   "id": "42f8e7d8",
   "metadata": {},
   "outputs": [
    {
     "name": "stdout",
     "output_type": "stream",
     "text": [
      "b:/Matrixian/\n"
     ]
    }
   ],
   "source": [
    "import pandas as pd\n",
    "import pyarrow\n",
    "from dotenv import load_dotenv\n",
    "import os\n",
    "from sklearn.preprocessing import StandardScaler\n",
    "from sklearn.pipeline import Pipeline\n",
    "from sklearn.preprocessing import LabelEncoder\n",
    "from sklearn.model_selection import train_test_split\n",
    "from sklearn.ensemble import RandomForestClassifier\n",
    "from sklearn.metrics import classification_report\n",
    "import matplotlib.pyplot as plt\n",
    "\n",
    "le = LabelEncoder()\n",
    "\n",
    "load_dotenv()\n",
    "\n",
    "file_path = os.getenv('FILE_PATH')\n",
    "print(file_path)"
   ]
  },
  {
   "cell_type": "code",
   "execution_count": 2,
   "id": "04698f50",
   "metadata": {},
   "outputs": [
    {
     "name": "stdout",
     "output_type": "stream",
     "text": [
      "b:\\Matrixian\\sample_with_urls.csv\n",
      "Index(['bag_nummeraanduidingid', 'source_data_result_id', 'special_house_type',\n",
      "       'woningtype', 'straatnaam', 'postcode', 'huisnr', 'huisnr_bag_letter',\n",
      "       'huisnr_bag_toevoeging', 'plaatsnaam', 'opp_pand', 'oppervlakte',\n",
      "       'build_year', 'build_type', 'is_monument', 'is_protected',\n",
      "       'source_data_timestamp', 'geometry', 'random_rank', 'bag_id',\n",
      "       'num_funda_images', 'frontview_exists', 'frontview_funda_url',\n",
      "       'frontview_google_url', 'frontview_funda_in_business_url'],\n",
      "      dtype='object')\n"
     ]
    }
   ],
   "source": [
    "df_sample = pd.read_parquet(file_path + \"detailed_woning_type_sample.parquet\")\n",
    "df = pd.read_csv(file_path + \"bag_image_summary.csv\", dtype=\"string\")\n",
    "df_joined = pd.merge(df_sample, df, how=\"left\", right_on=\"bag_id\", left_on=\"bag_nummeraanduidingid\")\n",
    "df_sample_with_urls = df_joined[df_joined[\"frontview_exists\"].notna()]\n",
    "print(os.path.abspath(file_path + \"sample_with_urls.csv\"))\n",
    "print(df_sample_with_urls.columns)\n"
   ]
  },
  {
   "cell_type": "code",
   "execution_count": 3,
   "id": "5c1bbdb5",
   "metadata": {},
   "outputs": [
    {
     "name": "stdout",
     "output_type": "stream",
     "text": [
      "Index(['bag_nummeraanduidingid', 'woningtype', 'straatnaam', 'postcode',\n",
      "       'huisnr', 'huisnr_bag_letter', 'huisnr_bag_toevoeging', 'plaatsnaam',\n",
      "       'opp_pand', 'oppervlakte', 'build_year', 'build_type', 'is_monument',\n",
      "       'is_protected', 'num_funda_images'],\n",
      "      dtype='object')\n"
     ]
    }
   ],
   "source": [
    "df_sample_with_urls = df_sample_with_urls.drop(columns=[\n",
    "    'geometry', 'bag_id', 'source_data_result_id', 'random_rank', \n",
    "    'frontview_funda_url', 'frontview_google_url', 'frontview_funda_in_business_url', \n",
    "    'special_house_type', 'source_data_timestamp', 'frontview_exists'\n",
    "])\n",
    "\n",
    "print(df_sample_with_urls.columns)\n"
   ]
  },
  {
   "cell_type": "code",
   "execution_count": 4,
   "id": "b525d823",
   "metadata": {},
   "outputs": [],
   "source": [
    "know_col = ['bag_nummeraanduidingid', 'special_house_type', 'woningtype']\n",
    "\n",
    "# getallen \n",
    "numerical_cols = ['opp_pand', 'oppervlakte', 'build_year', 'num_funda_images']\n",
    "\n",
    "# woorden \n",
    "categorical_cols = ['straatnaam', 'postcode', 'huisnr_bag_letter', 'huisnr_bag_toevoeging', 'plaatsnaam', 'build_type']\n",
    "\n",
    "# waarschijnlijk niet nodig\n",
    "boolean_cols = ['is_monument', 'is_protected']\n"
   ]
  },
  {
   "cell_type": "code",
   "execution_count": 5,
   "id": "25387250",
   "metadata": {},
   "outputs": [],
   "source": [
    "df_sample_with_urls.to_csv(file_path + \"sample_with_urls.csv\", index=False)"
   ]
  },
  {
   "cell_type": "code",
   "execution_count": 6,
   "id": "a2ea7786",
   "metadata": {},
   "outputs": [],
   "source": [
    "# New var\n",
    "# procent_ingenomen\n",
    "# opp_pand / oppervlakte = procent_ingenomen\n",
    "df_sample_with_urls['procent_ingenomen'] = df_sample_with_urls['opp_pand'] / df_sample_with_urls['oppervlakte']\n",
    "\n",
    "numerical_cols = ['opp_pand', 'oppervlakte', 'build_year', 'num_funda_images', 'huisnr']\n",
    "# opp_pand 0 - inf\n",
    "# Niks mee gedaan, kan hoog oplopen maar het nadeel van scale tot 0 - 1 is dat je geen grotere panden kan toevoegen en je het verschil tussen 100 en 200 minder groot maakt omdat die allebei zo dicht bij 0 gaan liggen \n",
    "# Standard hoe ver van het gemiddelde af\n",
    "from sklearn.compose import ColumnTransformer\n",
    "\n",
    "# Define the columns to scale\n",
    "numerical_cols = ['opp_pand', 'oppervlakte']\n",
    "\n",
    "# Create a ColumnTransformer with StandardScaler for the specified columns\n",
    "preprocessor = ColumnTransformer(\n",
    "    transformers=[\n",
    "        ('num', StandardScaler(), numerical_cols)\n",
    "    ],\n",
    "    remainder='passthrough'  # Keep other columns as is\n",
    ")\n",
    "\n",
    "# Apply the transformation\n",
    "df_sample_with_urls[numerical_cols] = preprocessor.fit_transform(df_sample_with_urls)\n",
    "\n",
    "# build_year 0 - 2025\n",
    "#\n",
    "\n",
    "# num_funda_images NaN, 0 - inf\n",
    "# weg gehaald, want veel of weinig fotos kan niks zeggen over het type huis en al zal dat wel kunnen, willen we het model daar niet op trainen\n",
    "\n",
    "# huisnr\n",
    "\n",
    "\n",
    "categorical_cols = ['straatnaam', 'postcode', 'huisnr_bag_letter', 'huisnr_bag_toevoeging', 'plaatsnaam', 'build_type']\n",
    "# straatnaam naam\n",
    "# 2d vector naar locatie\n",
    "\n",
    "# postcode 4(0-9) + 2(a-z)\n",
    "# 2d vector naar locatie\n",
    "\n",
    "# huisnr_bag_letter NaN of a-z\n",
    "\n",
    "# van 0 tot 1 waar niks = 0, a = 1/27, z = 1\n",
    "# def letter_score(val):\n",
    "#     if isinstance(val, str) and val.isalpha():\n",
    "#         return (ord(val.lower()) - ord('a') + 1) / 26\n",
    "#     return 0.0\n",
    "# df_sample_with_urls['huisnr_bag_letter_score'] = df_sample_with_urls['huisnr_bag_letter'].map(letter_score)\n",
    "\n",
    "df_sample_with_urls['huisnr_bag_letter'] = df_sample_with_urls['huisnr_bag_letter'].notna().astype(int)\n",
    "\n",
    "# huisnr_bag_toevoeging NaN of x(a-z) of x(0-9) of x(a-z,0-9)\n",
    "df_sample_with_urls['huisnr_bag_toevoeging'] = df_sample_with_urls['huisnr_bag_toevoeging'].notna().astype(int)\n",
    "\n",
    "# plaatsnaam naam\n",
    "# 2d vector naar locatie\n",
    "\n",
    "# build_type 5 types\n",
    "le = LabelEncoder()\n",
    "df_sample_with_urls['build_type'] = le.fit_transform(df_sample_with_urls['build_type'])\n",
    "\n",
    "boolean_cols = ['is_monument', 'is_protected']\n",
    "# is_monument NaN, 0 - 1\n",
    "df_sample_with_urls['is_monument'] = df_sample_with_urls['is_monument'].fillna(0).astype(int)\n",
    "\n",
    "# is_protected NaN, 0 - 1\n",
    "df_sample_with_urls['is_protected'] = df_sample_with_urls['is_protected'].fillna(0).astype(int)\n",
    "\n"
   ]
  },
  {
   "cell_type": "code",
   "execution_count": 7,
   "id": "1dd3d51a",
   "metadata": {},
   "outputs": [
    {
     "name": "stdout",
     "output_type": "stream",
     "text": [
      "Index(['bag_nummeraanduidingid', 'woningtype', 'huisnr', 'huisnr_bag_letter',\n",
      "       'huisnr_bag_toevoeging', 'opp_pand', 'oppervlakte', 'build_type',\n",
      "       'is_monument', 'is_protected', 'procent_ingenomen'],\n",
      "      dtype='object')\n"
     ]
    }
   ],
   "source": [
    "df_sample_with_urls = df_sample_with_urls.drop(columns=[\n",
    "    'build_year', 'num_funda_images', 'straatnaam', \n",
    "    'postcode', 'plaatsnaam'\n",
    "])\n",
    "\n",
    "df_sample_with_urls.to_csv(file_path + \"cleaned_sample_with_urls.csv\", index=False)\n",
    "\n",
    "print(df_sample_with_urls.columns)"
   ]
  },
  {
   "cell_type": "code",
   "execution_count": null,
   "id": "91e737c1",
   "metadata": {},
   "outputs": [],
   "source": [
    "features = [\n",
    "    'huisnr',                       # 0 - inf\n",
    "    'huisnr_bag_letter',            # 0 - 1\n",
    "    'huisnr_bag_toevoeging',        # 0 - 1\n",
    "    'opp_pand',                     # StandardScaler\n",
    "    'oppervlakte',                  # StandardScaler\n",
    "    'build_type',                   # mapped (0–4)\n",
    "    'is_monument',                  # 0 - 1\n",
    "    'is_protected',                 # 0 - 1\n",
    "    'procent_ingenomen'             # 0 - 1\n",
    "]\n",
    "\n",
    "target = 'woningtype'"
   ]
  },
  {
   "cell_type": "code",
   "execution_count": 9,
   "id": "dd6bf975",
   "metadata": {},
   "outputs": [
    {
     "name": "stdout",
     "output_type": "stream",
     "text": [
      "                                 precision    recall  f1-score   support\n",
      "\n",
      "            2-onder-1-kapwoning       0.52      0.54      0.53       100\n",
      "                  Benedenwoning       0.47      0.46      0.46       100\n",
      "                    Bovenwoning       0.35      0.34      0.35       100\n",
      "                   Corridorflat       0.28      0.18      0.22        39\n",
      "                     Eindwoning       0.42      0.41      0.41       100\n",
      "                    Galerijflat       0.38      0.48      0.42       100\n",
      "Geschakelde 2-onder-1-kapwoning       0.61      0.59      0.60       100\n",
      "             Geschakelde woning       0.27      0.28      0.28       100\n",
      "         Halfvrijstaande woning       0.30      0.25      0.27       100\n",
      "                     Hoekwoning       0.35      0.27      0.31       100\n",
      "                    Maisonnette       0.31      0.32      0.31       100\n",
      "                    Portiekflat       0.29      0.28      0.29       100\n",
      "                  Portiekwoning       0.34      0.34      0.34       100\n",
      "                   Tussenwoning       0.63      0.83      0.72       100\n",
      "             Vrijstaande woning       0.90      0.91      0.91       100\n",
      "\n",
      "                       accuracy                           0.44      1439\n",
      "                      macro avg       0.43      0.43      0.43      1439\n",
      "                   weighted avg       0.44      0.44      0.44      1439\n",
      "\n"
     ]
    }
   ],
   "source": [
    "X = df_sample_with_urls[features]\n",
    "y = df_sample_with_urls[target]\n",
    "\n",
    "X_train, X_test, y_train, y_test = train_test_split(X, y, stratify=y, random_state=42, test_size=0.2)\n",
    "\n",
    "model = RandomForestClassifier(n_estimators=100, random_state=42)\n",
    "model.fit(X_train, y_train)\n",
    "\n",
    "y_pred = model.predict(X_test)\n",
    "print(classification_report(y_test, y_pred))\n"
   ]
  },
  {
   "cell_type": "code",
   "execution_count": 10,
   "id": "7b64c573",
   "metadata": {},
   "outputs": [
    {
     "data": {
      "image/png": "[encoded data removed]",
      "text/plain": [
       "<Figure size 640x480 with 1 Axes>"
      ]
     },
     "metadata": {},
     "output_type": "display_data"
    }
   ],
   "source": [
    "importances = model.feature_importances_\n",
    "plt.barh(features, importances)\n",
    "plt.title(\"Feature Importance\")\n",
    "plt.show()\n"
   ]
  }
 ],
 "metadata": {
  "kernelspec": {
   "display_name": "Python 3",
   "language": "python",
   "name": "python3"
  },
  "language_info": {
   "codemirror_mode": {
    "name": "ipython",
    "version": 3
   },
   "file_extension": ".py",
   "mimetype": "text/x-python",
   "name": "python",
   "nbconvert_exporter": "python",
   "pygments_lexer": "ipython3",
   "version": "3.11.13"
  }
 },
 "nbformat": 4,
 "nbformat_minor": 5
}
