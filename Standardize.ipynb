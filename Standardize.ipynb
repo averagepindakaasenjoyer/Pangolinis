{
 "cells": [
  {
   "cell_type": "code",
   "execution_count": 1,
   "id": "42f8e7d8",
   "metadata": {},
   "outputs": [
    {
     "name": "stdout",
     "output_type": "stream",
     "text": [
      "b:/Matrixian/\n"
     ]
    }
   ],
   "source": [
    "import pandas as pd\n",
    "import pyarrow\n",
    "from dotenv import load_dotenv\n",
    "import os\n",
    "from sklearn.preprocessing import StandardScaler\n",
    "from sklearn.pipeline import Pipeline\n",
    "from sklearn.preprocessing import LabelEncoder\n",
    "from sklearn.model_selection import train_test_split\n",
    "from sklearn.ensemble import RandomForestClassifier\n",
    "from sklearn.metrics import classification_report\n",
    "import matplotlib.pyplot as plt\n",
    "from sklearn.preprocessing import OneHotEncoder\n",
    "\n",
    "le = LabelEncoder()\n",
    "\n",
    "load_dotenv()\n",
    "\n",
    "file_path = os.getenv('FILE_PATH')\n",
    "print(file_path)"
   ]
  },
  {
   "cell_type": "code",
   "execution_count": 2,
   "id": "04698f50",
   "metadata": {},
   "outputs": [
    {
     "name": "stdout",
     "output_type": "stream",
     "text": [
      "b:\\Matrixian\\sample_with_urls.csv\n",
      "Index(['bag_nummeraanduidingid', 'source_data_result_id', 'special_house_type',\n",
      "       'woningtype', 'straatnaam', 'postcode', 'huisnr', 'huisnr_bag_letter',\n",
      "       'huisnr_bag_toevoeging', 'plaatsnaam', 'opp_pand', 'oppervlakte',\n",
      "       'build_year', 'build_type', 'is_monument', 'is_protected',\n",
      "       'source_data_timestamp', 'geometry', 'random_rank', 'bag_id',\n",
      "       'num_funda_images', 'frontview_exists', 'frontview_funda_url',\n",
      "       'frontview_google_url', 'frontview_funda_in_business_url'],\n",
      "      dtype='object')\n"
     ]
    }
   ],
   "source": [
    "df_sample = pd.read_parquet(file_path + \"detailed_woning_type_sample.parquet\")\n",
    "df = pd.read_csv(file_path + \"bag_image_summary.csv\", dtype=\"string\")\n",
    "df_joined = pd.merge(df_sample, df, how=\"left\", right_on=\"bag_id\", left_on=\"bag_nummeraanduidingid\")\n",
    "df_sample_with_urls = df_joined[df_joined[\"frontview_exists\"].notna()]\n",
    "print(os.path.abspath(file_path + \"sample_with_urls.csv\"))\n",
    "print(df_sample_with_urls.columns)\n"
   ]
  },
  {
   "cell_type": "code",
   "execution_count": 3,
   "id": "5c1bbdb5",
   "metadata": {},
   "outputs": [
    {
     "name": "stdout",
     "output_type": "stream",
     "text": [
      "Index(['bag_nummeraanduidingid', 'woningtype', 'straatnaam', 'postcode',\n",
      "       'huisnr', 'huisnr_bag_letter', 'huisnr_bag_toevoeging', 'plaatsnaam',\n",
      "       'opp_pand', 'oppervlakte', 'build_year', 'build_type', 'is_monument',\n",
      "       'is_protected', 'num_funda_images'],\n",
      "      dtype='object')\n"
     ]
    }
   ],
   "source": [
    "df_sample_with_urls = df_sample_with_urls.drop(columns=[\n",
    "    'geometry', 'bag_id', 'source_data_result_id', 'random_rank', \n",
    "    'frontview_funda_url', 'frontview_google_url', 'frontview_funda_in_business_url', \n",
    "    'special_house_type', 'source_data_timestamp', 'frontview_exists'\n",
    "])\n",
    "\n",
    "print(df_sample_with_urls.columns)\n"
   ]
  },
  {
   "cell_type": "code",
   "execution_count": 4,
   "id": "b525d823",
   "metadata": {},
   "outputs": [],
   "source": [
    "know_col = ['bag_nummeraanduidingid', 'woningtype']\n",
    "\n",
    "# getallen \n",
    "numerical_cols = ['opp_pand', 'oppervlakte', 'build_year', 'num_funda_images']\n",
    "\n",
    "# woorden \n",
    "categorical_cols = ['straatnaam', 'postcode', 'huisnr_bag_letter', 'huisnr_bag_toevoeging', 'plaatsnaam', 'build_type']\n",
    "\n",
    "# waarschijnlijk niet nodig\n",
    "boolean_cols = ['is_monument', 'is_protected']\n"
   ]
  },
  {
   "cell_type": "code",
   "execution_count": 5,
   "id": "25387250",
   "metadata": {},
   "outputs": [],
   "source": [
    "df_sample_with_urls.to_csv(file_path + \"sample_with_urls.csv\", index=False)"
   ]
  },
  {
   "cell_type": "code",
   "execution_count": 6,
   "id": "a2ea7786",
   "metadata": {},
   "outputs": [],
   "source": [
    "# New var\n",
    "# procent_ingenomen\n",
    "# opp_pand / oppervlakte = procent_ingenomen\n",
    "df_sample_with_urls['procent_ingenomen'] = df_sample_with_urls['opp_pand'] / df_sample_with_urls['oppervlakte']\n",
    "\n",
    "numerical_cols = ['opp_pand', 'oppervlakte', 'build_year', 'num_funda_images', 'huisnr']\n",
    "# opp_pand 0 - inf\n",
    "# Niks mee gedaan, kan hoog oplopen maar het nadeel van scale tot 0 - 1 is dat je geen grotere panden kan toevoegen en je het verschil tussen 100 en 200 minder groot maakt omdat die allebei zo dicht bij 0 gaan liggen \n",
    "# Standard hoe ver van het gemiddelde af\n",
    "scaler = StandardScaler()\n",
    "df_sample_with_urls ['opp_pand']= scaler.fit_transform(df_sample_with_urls[['opp_pand']])\n",
    "\n",
    "# oppervlakte 0 - inf\n",
    "# Niks mee gedaan, kan hoog oplopen maar het nadeel van scale tot 0 - 1 is dat je geen grotere panden kan toevoegen en je het verschil tussen 100 en 200 minder groot maakt omdat die allebei zo dicht bij 0 gaan liggen \n",
    "df_sample_with_urls['oppervlakte'] = scaler.fit_transform(df_sample_with_urls[['oppervlakte']])\n",
    "\n",
    "# build_year 0 - 2025\n",
    "df_sample_with_urls ['build_year']= scaler.fit_transform(df_sample_with_urls[['build_year']])\n",
    "\n",
    "# num_funda_images NaN, 0 - inf\n",
    "# weg gehaald, want veel of weinig fotos kan niks zeggen over het type huis en al zal dat wel kunnen, willen we het model daar niet op trainen\n",
    "\n",
    "# huisnr\n",
    "\n",
    "\n",
    "categorical_cols = ['straatnaam', 'postcode', 'huisnr_bag_letter', 'huisnr_bag_toevoeging', 'plaatsnaam', 'build_type']\n",
    "# straatnaam naam\n",
    "# 2d vector naar locatie\n",
    "# df['straatnaam'] = df['straatnaam'].str.strip().str.lower()\n",
    "\n",
    "\n",
    "# postcode 4(0-9) + 2(a-z)\n",
    "# 2d vector naar locatie\n",
    "\n",
    "# huisnr_bag_letter NaN of a-z\n",
    "\n",
    "# van 0 tot 1 waar niks = 0, a = 1/27, z = 1\n",
    "# def letter_score(val):\n",
    "#     if isinstance(val, str) and val.isalpha():\n",
    "#         return (ord(val.lower()) - ord('a') + 1) / 26\n",
    "#     return 0.0\n",
    "# df_sample_with_urls['huisnr_bag_letter_score'] = df_sample_with_urls['huisnr_bag_letter'].map(letter_score)\n",
    "\n",
    "df_sample_with_urls['huisnr_bag_letter'] = df_sample_with_urls['huisnr_bag_letter'].notna().astype(int)\n",
    "\n",
    "# huisnr_bag_toevoeging NaN of x(a-z) of x(0-9) of x(a-z,0-9)\n",
    "df_sample_with_urls['huisnr_bag_toevoeging'] = df_sample_with_urls['huisnr_bag_toevoeging'].notna().astype(int)\n",
    "\n",
    "# plaatsnaam naam\n",
    "# 2d vector naar locatie\n",
    "# df['plaatsnaam'] = df['plaatsnaam'].str.strip().str.lower()\n",
    "\n",
    "\n",
    "# build_type 5 types\n",
    "build_type = df_sample_with_urls[['build_type']]\n",
    "encoder = OneHotEncoder(sparse_output=False, handle_unknown='ignore')\n",
    "encoded_array = encoder.fit_transform(build_type)\n",
    "raw_feature_names = encoder.get_feature_names_out(['build_type'])\n",
    "clean_feature_names = [name.replace(' ', '_') for name in raw_feature_names]\n",
    "encoded_df = pd.DataFrame(encoded_array, columns=clean_feature_names, index=df_sample_with_urls.index)\n",
    "df_sample_with_urls.drop('build_type', axis=1, inplace=True)\n",
    "df_sample_with_urls = pd.concat([df_sample_with_urls, encoded_df], axis=1)\n",
    "\n",
    "boolean_cols = ['is_monument', 'is_protected']\n",
    "# is_monument NaN, 0 - 1\n",
    "df_sample_with_urls['is_monument'] = df_sample_with_urls['is_monument'].fillna(0).astype(int)\n",
    "\n",
    "# is_protected NaN, 0 - 1\n",
    "df_sample_with_urls['is_protected'] = df_sample_with_urls['is_protected'].fillna(0).astype(int)\n",
    "\n"
   ]
  },
  {
   "cell_type": "code",
   "execution_count": 7,
   "id": "1dd3d51a",
   "metadata": {},
   "outputs": [
    {
     "name": "stdout",
     "output_type": "stream",
     "text": [
      "Index(['bag_nummeraanduidingid', 'woningtype', 'huisnr', 'huisnr_bag_letter',\n",
      "       'huisnr_bag_toevoeging', 'opp_pand', 'oppervlakte', 'build_year',\n",
      "       'is_monument', 'is_protected', 'procent_ingenomen',\n",
      "       'build_type_Appartement', 'build_type_Hoekwoning',\n",
      "       'build_type_Tussen_of_geschakelde_woning', 'build_type_Tweeonder1kap',\n",
      "       'build_type_Verschillend', 'build_type_Vrijstaande_woning'],\n",
      "      dtype='object')\n"
     ]
    }
   ],
   "source": [
    "df_sample_with_urls = df_sample_with_urls.drop(columns=[\n",
    "    'num_funda_images', 'straatnaam', \n",
    "    'postcode', 'plaatsnaam'\n",
    "])\n",
    "\n",
    "df_sample_with_urls.to_csv(file_path + \"cleaned_sample_with_urls.csv\", index=False)\n",
    "\n",
    "print(df_sample_with_urls.columns)"
   ]
  },
  {
   "cell_type": "code",
   "execution_count": null,
   "id": "91e737c1",
   "metadata": {},
   "outputs": [],
   "source": [
    "features = [\n",
    "    'huisnr',                                   # 0 - inf\n",
    "    'huisnr_bag_letter',                        # 0 - 1\n",
    "    'huisnr_bag_toevoeging',                    # 0 - 1\n",
    "    'opp_pand',                                 # StandardScaler\n",
    "    'oppervlakte',                              # StandardScaler\n",
    "    'build_year',                               # StandardScaler\n",
    "    'build_type_Appartement',                   # OneHotEncoder\n",
    "    'build_type_Hoekwoning',                    # OneHotEncoder\n",
    "    'build_type_Tussen_of_geschakelde_woning',   # OneHotEncoder\n",
    "    'build_type_Tweeonder1kap',                 # OneHotEncoder\n",
    "    'build_type_Verschillend',                  # OneHotEncoder\n",
    "    'is_monument',                              # 0 - 1\n",
    "    'is_protected',                             # 0 - 1\n",
    "    'procent_ingenomen'                         # 0 - 1\n",
    "]\n",
    "\n",
    "target = 'woningtype'"
   ]
  },
  {
   "cell_type": "code",
   "execution_count": 9,
   "id": "dd6bf975",
   "metadata": {},
   "outputs": [
    {
     "ename": "KeyError",
     "evalue": "\"['build_type_Tussen___geschakelde_woning'] not in index\"",
     "output_type": "error",
     "traceback": [
      "\u001b[31m---------------------------------------------------------------------------\u001b[39m",
      "\u001b[31mKeyError\u001b[39m                                  Traceback (most recent call last)",
      "\u001b[36mCell\u001b[39m\u001b[36m \u001b[39m\u001b[32mIn[9]\u001b[39m\u001b[32m, line 1\u001b[39m\n\u001b[32m----> \u001b[39m\u001b[32m1\u001b[39m X = \u001b[43mdf_sample_with_urls\u001b[49m\u001b[43m[\u001b[49m\u001b[43mfeatures\u001b[49m\u001b[43m]\u001b[49m\n\u001b[32m      2\u001b[39m y = df_sample_with_urls[target]\n\u001b[32m      4\u001b[39m X_train, X_test, y_train, y_test = train_test_split(X, y, stratify=y, random_state=\u001b[32m42\u001b[39m, test_size=\u001b[32m0.2\u001b[39m)\n",
      "\u001b[36mFile \u001b[39m\u001b[32mb:\\Matrixian\\Pangolinis\\.conda\\Lib\\site-packages\\pandas\\core\\frame.py:4113\u001b[39m, in \u001b[36mDataFrame.__getitem__\u001b[39m\u001b[34m(self, key)\u001b[39m\n\u001b[32m   4111\u001b[39m     \u001b[38;5;28;01mif\u001b[39;00m is_iterator(key):\n\u001b[32m   4112\u001b[39m         key = \u001b[38;5;28mlist\u001b[39m(key)\n\u001b[32m-> \u001b[39m\u001b[32m4113\u001b[39m     indexer = \u001b[38;5;28;43mself\u001b[39;49m\u001b[43m.\u001b[49m\u001b[43mcolumns\u001b[49m\u001b[43m.\u001b[49m\u001b[43m_get_indexer_strict\u001b[49m\u001b[43m(\u001b[49m\u001b[43mkey\u001b[49m\u001b[43m,\u001b[49m\u001b[43m \u001b[49m\u001b[33;43m\"\u001b[39;49m\u001b[33;43mcolumns\u001b[39;49m\u001b[33;43m\"\u001b[39;49m\u001b[43m)\u001b[49m[\u001b[32m1\u001b[39m]\n\u001b[32m   4115\u001b[39m \u001b[38;5;66;03m# take() does not accept boolean indexers\u001b[39;00m\n\u001b[32m   4116\u001b[39m \u001b[38;5;28;01mif\u001b[39;00m \u001b[38;5;28mgetattr\u001b[39m(indexer, \u001b[33m\"\u001b[39m\u001b[33mdtype\u001b[39m\u001b[33m\"\u001b[39m, \u001b[38;5;28;01mNone\u001b[39;00m) == \u001b[38;5;28mbool\u001b[39m:\n",
      "\u001b[36mFile \u001b[39m\u001b[32mb:\\Matrixian\\Pangolinis\\.conda\\Lib\\site-packages\\pandas\\core\\indexes\\base.py:6212\u001b[39m, in \u001b[36mIndex._get_indexer_strict\u001b[39m\u001b[34m(self, key, axis_name)\u001b[39m\n\u001b[32m   6209\u001b[39m \u001b[38;5;28;01melse\u001b[39;00m:\n\u001b[32m   6210\u001b[39m     keyarr, indexer, new_indexer = \u001b[38;5;28mself\u001b[39m._reindex_non_unique(keyarr)\n\u001b[32m-> \u001b[39m\u001b[32m6212\u001b[39m \u001b[38;5;28;43mself\u001b[39;49m\u001b[43m.\u001b[49m\u001b[43m_raise_if_missing\u001b[49m\u001b[43m(\u001b[49m\u001b[43mkeyarr\u001b[49m\u001b[43m,\u001b[49m\u001b[43m \u001b[49m\u001b[43mindexer\u001b[49m\u001b[43m,\u001b[49m\u001b[43m \u001b[49m\u001b[43maxis_name\u001b[49m\u001b[43m)\u001b[49m\n\u001b[32m   6214\u001b[39m keyarr = \u001b[38;5;28mself\u001b[39m.take(indexer)\n\u001b[32m   6215\u001b[39m \u001b[38;5;28;01mif\u001b[39;00m \u001b[38;5;28misinstance\u001b[39m(key, Index):\n\u001b[32m   6216\u001b[39m     \u001b[38;5;66;03m# GH 42790 - Preserve name from an Index\u001b[39;00m\n",
      "\u001b[36mFile \u001b[39m\u001b[32mb:\\Matrixian\\Pangolinis\\.conda\\Lib\\site-packages\\pandas\\core\\indexes\\base.py:6264\u001b[39m, in \u001b[36mIndex._raise_if_missing\u001b[39m\u001b[34m(self, key, indexer, axis_name)\u001b[39m\n\u001b[32m   6261\u001b[39m     \u001b[38;5;28;01mraise\u001b[39;00m \u001b[38;5;167;01mKeyError\u001b[39;00m(\u001b[33mf\u001b[39m\u001b[33m\"\u001b[39m\u001b[33mNone of [\u001b[39m\u001b[38;5;132;01m{\u001b[39;00mkey\u001b[38;5;132;01m}\u001b[39;00m\u001b[33m] are in the [\u001b[39m\u001b[38;5;132;01m{\u001b[39;00maxis_name\u001b[38;5;132;01m}\u001b[39;00m\u001b[33m]\u001b[39m\u001b[33m\"\u001b[39m)\n\u001b[32m   6263\u001b[39m not_found = \u001b[38;5;28mlist\u001b[39m(ensure_index(key)[missing_mask.nonzero()[\u001b[32m0\u001b[39m]].unique())\n\u001b[32m-> \u001b[39m\u001b[32m6264\u001b[39m \u001b[38;5;28;01mraise\u001b[39;00m \u001b[38;5;167;01mKeyError\u001b[39;00m(\u001b[33mf\u001b[39m\u001b[33m\"\u001b[39m\u001b[38;5;132;01m{\u001b[39;00mnot_found\u001b[38;5;132;01m}\u001b[39;00m\u001b[33m not in index\u001b[39m\u001b[33m\"\u001b[39m)\n",
      "\u001b[31mKeyError\u001b[39m: \"['build_type_Tussen___geschakelde_woning'] not in index\""
     ]
    }
   ],
   "source": [
    "X = df_sample_with_urls[features]\n",
    "y = df_sample_with_urls[target]\n",
    "\n",
    "X_train, X_test, y_train, y_test = train_test_split(X, y, stratify=y, random_state=42, test_size=0.2)\n",
    "\n",
    "model = RandomForestClassifier(n_estimators=100, random_state=42)\n",
    "model.fit(X_train, y_train)\n",
    "\n",
    "y_pred = model.predict(X_test)\n",
    "print(classification_report(y_test, y_pred))\n"
   ]
  },
  {
   "cell_type": "code",
   "execution_count": null,
   "id": "7b64c573",
   "metadata": {},
   "outputs": [
    {
     "data": {
      "image/png": "[encoded data removed]",
      "text/plain": [
       "<Figure size 640x480 with 1 Axes>"
      ]
     },
     "metadata": {},
     "output_type": "display_data"
    }
   ],
   "source": [
    "importances = model.feature_importances_\n",
    "plt.barh(features, importances)\n",
    "plt.title(\"Feature Importance\")\n",
    "plt.show()"
   ]
  }
 ],
 "metadata": {
  "kernelspec": {
   "display_name": "Python 3",
   "language": "python",
   "name": "python3"
  },
  "language_info": {
   "codemirror_mode": {
    "name": "ipython",
    "version": 3
   },
   "file_extension": ".py",
   "mimetype": "text/x-python",
   "name": "python",
   "nbconvert_exporter": "python",
   "pygments_lexer": "ipython3",
   "version": "3.11.13"
  }
 },
 "nbformat": 4,
 "nbformat_minor": 5
}
