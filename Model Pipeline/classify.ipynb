{
 "cells": [
  {
   "cell_type": "code",
   "execution_count": null,
   "id": "1f034550",
   "metadata": {},
   "outputs": [
    {
     "name": "stderr",
     "output_type": "stream",
     "text": [
      "c:\\Users\\Silas Postma\\Documents\\Maximilian\\Pangolinis\\Model Pipeline\\pipelineClass.py:22: FutureWarning: WKTReadingError is deprecated and will be removed in a future version. Use ShapelyError instead (functions previously raising {name} will now raise a ShapelyError instead).\n",
      "  from shapely.errors import WKTReadingError\n"
     ]
    },
    {
     "name": "stdout",
     "output_type": "stream",
     "text": [
      "Base Directory: ../../Data/\n",
      "Data CSV Path: ../../Data/Full_preprocessed_detailed_house.csv\n",
      "Using device: cuda\n",
      "--- Preparing Data ---\n",
      "Splitting data...\n",
      "Found 10 classes: ['2-onder-1-kapwoning', 'Bovenwoning/Benedenwoning/Maisonette', 'Corridorflat/Galerijflat', 'Geschakelde 2-onder-1-kapwoning', 'Geschakelde woning', 'Halfvrijstaande woning', 'Hoekwoning/Eindwoning', 'Portiekflat/Portiekwoning', 'Tussenwoning', 'Vrijstaande woning']\n",
      "Preprocessing tabular features...\n",
      "Total tabular features: 7\n",
      "Preprocessing objects saved to preprocessors/\n",
      "Creating Datasets and DataLoaders...\n",
      "Dropped 41 rows due to missing image paths.\n",
      "Dropped 14 rows due to missing image paths.\n",
      "Dropped 19 rows due to missing image paths.\n",
      "Train size: 3957 | Val size: 1319 | Test size: 1319\n",
      "--- Data Preparation Complete ---\n"
     ]
    }
   ],
   "source": [
    "from MaskMultimodalTrain import MaskMultimodalWithPretrained\n",
    "from pipelineClass import MultimodalPipeline\n",
    "from dotenv import load_dotenv\n",
    "import os\n",
    "\n",
    "load_dotenv()\n",
    "BASE_DIR = os.getenv('FILE_PATH')\n",
    "if not BASE_DIR:\n",
    "    raise ValueError(\"FILE_PATH environment variable not set. Please create a .env file and set it.\")\n",
    "\n",
    "DATA_PATH = os.path.join(BASE_DIR, 'Full_preprocessed_detailed_house.csv')\n",
    "print(f\"Base Directory: {BASE_DIR}\")\n",
    "print(f\"Data CSV Path: {DATA_PATH}\")\n",
    "\n",
    "numeric_cols = [ 'procent_ingenomen', 'area', 'perimeter', 'elongation',  'compactness', 'huisnr_bag_letter']\n",
    "categorical_cols = ['build_type']\n",
    "\n",
    "pipeline = MultimodalPipeline(\n",
    "    model_class=MaskMultimodalWithPretrained,\n",
    "    csv_path=DATA_PATH,\n",
    "    image_base_dir=BASE_DIR,\n",
    "    image_col='frontview_url',\n",
    "    target_col='woningtype',\n",
    "    numeric_cols=numeric_cols,\n",
    "    categorical_cols=categorical_cols,\n",
    "    epochs=1, \n",
    "    lr=1e-4,\n",
    "    batch_size=32,\n",
    "    useMask=True\n",
    ")\n",
    "\n",
    "pipeline.model = pipeline.load_saved_model('models/best_housing_classifier_70.pth', evaluate=False)\n"
   ]
  },
  {
   "cell_type": "code",
   "execution_count": null,
   "id": "585e4982",
   "metadata": {},
   "outputs": [
    {
     "name": "stdout",
     "output_type": "stream",
     "text": [
      "\n",
      "--- Starting Classification of New Data Entry ---\n",
      "Classification complete. Predicted class: Uncertain: 0.5379729270935059\n",
      "The predicted type for the new entry is: Uncertain: 0.5379729270935059\n",
      "prob dist: [0.10873066633939743, 0.033931221812963486, 0.017357900738716125, 0.037985336035490036, 0.062166403979063034, 0.09970474988222122, 0.5379729270935059, 0.011423717252910137, 0.06279473751783371, 0.02793235331773758]\n",
      "6\n"
     ]
    }
   ],
   "source": [
    "for predicted_label, prob_dist, predicted_idx in pipeline.classify(input_csv_name='input.csv', input_image_dir='images', threshold = 0.6):\n",
    "    if predicted_label:\n",
    "        print(f\"The predicted type for the new entry is: {predicted_label}\")\n",
    "        print(f\"prob dist: {prob_dist}\")\n",
    "        print(f\"predicted class index: {predicted_idx}\")"
   ]
  }
 ],
 "metadata": {
  "kernelspec": {
   "display_name": "venv",
   "language": "python",
   "name": "python3"
  },
  "language_info": {
   "codemirror_mode": {
    "name": "ipython",
    "version": 3
   },
   "file_extension": ".py",
   "mimetype": "text/x-python",
   "name": "python",
   "nbconvert_exporter": "python",
   "pygments_lexer": "ipython3",
   "version": "3.12.7"
  }
 },
 "nbformat": 4,
 "nbformat_minor": 5
}
