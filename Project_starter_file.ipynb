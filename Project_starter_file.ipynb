{
 "cells": [
  {
   "cell_type": "markdown",
   "id": "dac9089c",
   "metadata": {},
   "source": [
    "Uploaded for the sake of uploading"
   ]
  }
 ],
 "metadata": {
  "language_info": {
   "name": "python"
  }
 },
 "nbformat": 4,
 "nbformat_minor": 5
}
